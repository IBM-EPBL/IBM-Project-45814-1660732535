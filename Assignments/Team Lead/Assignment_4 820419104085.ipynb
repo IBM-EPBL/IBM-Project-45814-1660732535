{
  "nbformat": 4,
  "nbformat_minor": 0,
  "metadata": {
    "colab": {
      "provenance": []
    },
    "kernelspec": {
      "name": "python3",
      "display_name": "Python 3"
    },
    "language_info": {
      "name": "python"
    }
  },
  "cells": [
    {
      "cell_type": "markdown",
      "source": [
        "1.Import the Required Libraries"
      ],
      "metadata": {
        "id": "6YjGs0PjSYgS"
      }
    },
    {
      "cell_type": "code",
      "execution_count": null,
      "metadata": {
        "id": "LWThpoHMvHIi"
      },
      "outputs": [],
      "source": [
        "import pandas as pd\n",
        "\n",
        "import numpy as np\n",
        "\n",
        "import matplotlib.pyplot as plt \n",
        "import seaborn as sns\n",
        "\n",
        "from sklearn.model_selection import train_test_split \n",
        "from sklearn.preprocessing import LabelEncoder\n",
        "\n",
        "from keras.models import Model\n",
        "\n",
        "from keras.layers import LSTM, Activation, Dense, Dropout, Input, Embedding\n",
        "\n",
        "from keras.optimizers import RMSprop \n",
        "from keras.preprocessing.text import Tokenizer\n",
        "\n",
        "from keras.preprocessing import sequence \n",
        "from keras.utils import pad_sequences\n",
        "\n",
        "from keras.utils import to_categorical\n",
        "\n",
        "from keras.callbacks import EarlyStopping"
      ]
    },
    {
      "cell_type": "markdown",
      "source": [
        "# 2.Read dataset and do pre-processing"
      ],
      "metadata": {
        "id": "HcskkBMlSjRC"
      }
    },
    {
      "cell_type": "code",
      "source": [
        "df = pd.read_csv(\"/content/drive/MyDrive/spam.csv\", delimiter=\",\",encoding='latin-1') \n",
        "df.head()"
      ],
      "metadata": {
        "colab": {
          "base_uri": "https://localhost:8080/",
          "height": 206
        },
        "id": "SzcJBaeIySEE",
        "outputId": "ad07f46f-6561-448b-9b67-a5b3e4e61239"
      },
      "execution_count": null,
      "outputs": [
        {
          "output_type": "execute_result",
          "data": {
            "text/plain": [
              "     v1                                                 v2 Unnamed: 2  \\\n",
              "0   ham  Go until jurong point, crazy.. Available only ...        NaN   \n",
              "1   ham                      Ok lar... Joking wif u oni...        NaN   \n",
              "2  spam  Free entry in 2 a wkly comp to win FA Cup fina...        NaN   \n",
              "3   ham  U dun say so early hor... U c already then say...        NaN   \n",
              "4   ham  Nah I don't think he goes to usf, he lives aro...        NaN   \n",
              "\n",
              "  Unnamed: 3 Unnamed: 4  \n",
              "0        NaN        NaN  \n",
              "1        NaN        NaN  \n",
              "2        NaN        NaN  \n",
              "3        NaN        NaN  \n",
              "4        NaN        NaN  "
            ],
            "text/html": [
              "\n",
              "  <div id=\"df-29ade1b7-6d1e-4cbe-a6f9-e06da4e18d64\">\n",
              "    <div class=\"colab-df-container\">\n",
              "      <div>\n",
              "<style scoped>\n",
              "    .dataframe tbody tr th:only-of-type {\n",
              "        vertical-align: middle;\n",
              "    }\n",
              "\n",
              "    .dataframe tbody tr th {\n",
              "        vertical-align: top;\n",
              "    }\n",
              "\n",
              "    .dataframe thead th {\n",
              "        text-align: right;\n",
              "    }\n",
              "</style>\n",
              "<table border=\"1\" class=\"dataframe\">\n",
              "  <thead>\n",
              "    <tr style=\"text-align: right;\">\n",
              "      <th></th>\n",
              "      <th>v1</th>\n",
              "      <th>v2</th>\n",
              "      <th>Unnamed: 2</th>\n",
              "      <th>Unnamed: 3</th>\n",
              "      <th>Unnamed: 4</th>\n",
              "    </tr>\n",
              "  </thead>\n",
              "  <tbody>\n",
              "    <tr>\n",
              "      <th>0</th>\n",
              "      <td>ham</td>\n",
              "      <td>Go until jurong point, crazy.. Available only ...</td>\n",
              "      <td>NaN</td>\n",
              "      <td>NaN</td>\n",
              "      <td>NaN</td>\n",
              "    </tr>\n",
              "    <tr>\n",
              "      <th>1</th>\n",
              "      <td>ham</td>\n",
              "      <td>Ok lar... Joking wif u oni...</td>\n",
              "      <td>NaN</td>\n",
              "      <td>NaN</td>\n",
              "      <td>NaN</td>\n",
              "    </tr>\n",
              "    <tr>\n",
              "      <th>2</th>\n",
              "      <td>spam</td>\n",
              "      <td>Free entry in 2 a wkly comp to win FA Cup fina...</td>\n",
              "      <td>NaN</td>\n",
              "      <td>NaN</td>\n",
              "      <td>NaN</td>\n",
              "    </tr>\n",
              "    <tr>\n",
              "      <th>3</th>\n",
              "      <td>ham</td>\n",
              "      <td>U dun say so early hor... U c already then say...</td>\n",
              "      <td>NaN</td>\n",
              "      <td>NaN</td>\n",
              "      <td>NaN</td>\n",
              "    </tr>\n",
              "    <tr>\n",
              "      <th>4</th>\n",
              "      <td>ham</td>\n",
              "      <td>Nah I don't think he goes to usf, he lives aro...</td>\n",
              "      <td>NaN</td>\n",
              "      <td>NaN</td>\n",
              "      <td>NaN</td>\n",
              "    </tr>\n",
              "  </tbody>\n",
              "</table>\n",
              "</div>\n",
              "      <button class=\"colab-df-convert\" onclick=\"convertToInteractive('df-29ade1b7-6d1e-4cbe-a6f9-e06da4e18d64')\"\n",
              "              title=\"Convert this dataframe to an interactive table.\"\n",
              "              style=\"display:none;\">\n",
              "        \n",
              "  <svg xmlns=\"http://www.w3.org/2000/svg\" height=\"24px\"viewBox=\"0 0 24 24\"\n",
              "       width=\"24px\">\n",
              "    <path d=\"M0 0h24v24H0V0z\" fill=\"none\"/>\n",
              "    <path d=\"M18.56 5.44l.94 2.06.94-2.06 2.06-.94-2.06-.94-.94-2.06-.94 2.06-2.06.94zm-11 1L8.5 8.5l.94-2.06 2.06-.94-2.06-.94L8.5 2.5l-.94 2.06-2.06.94zm10 10l.94 2.06.94-2.06 2.06-.94-2.06-.94-.94-2.06-.94 2.06-2.06.94z\"/><path d=\"M17.41 7.96l-1.37-1.37c-.4-.4-.92-.59-1.43-.59-.52 0-1.04.2-1.43.59L10.3 9.45l-7.72 7.72c-.78.78-.78 2.05 0 2.83L4 21.41c.39.39.9.59 1.41.59.51 0 1.02-.2 1.41-.59l7.78-7.78 2.81-2.81c.8-.78.8-2.07 0-2.86zM5.41 20L4 18.59l7.72-7.72 1.47 1.35L5.41 20z\"/>\n",
              "  </svg>\n",
              "      </button>\n",
              "      \n",
              "  <style>\n",
              "    .colab-df-container {\n",
              "      display:flex;\n",
              "      flex-wrap:wrap;\n",
              "      gap: 12px;\n",
              "    }\n",
              "\n",
              "    .colab-df-convert {\n",
              "      background-color: #E8F0FE;\n",
              "      border: none;\n",
              "      border-radius: 50%;\n",
              "      cursor: pointer;\n",
              "      display: none;\n",
              "      fill: #1967D2;\n",
              "      height: 32px;\n",
              "      padding: 0 0 0 0;\n",
              "      width: 32px;\n",
              "    }\n",
              "\n",
              "    .colab-df-convert:hover {\n",
              "      background-color: #E2EBFA;\n",
              "      box-shadow: 0px 1px 2px rgba(60, 64, 67, 0.3), 0px 1px 3px 1px rgba(60, 64, 67, 0.15);\n",
              "      fill: #174EA6;\n",
              "    }\n",
              "\n",
              "    [theme=dark] .colab-df-convert {\n",
              "      background-color: #3B4455;\n",
              "      fill: #D2E3FC;\n",
              "    }\n",
              "\n",
              "    [theme=dark] .colab-df-convert:hover {\n",
              "      background-color: #434B5C;\n",
              "      box-shadow: 0px 1px 3px 1px rgba(0, 0, 0, 0.15);\n",
              "      filter: drop-shadow(0px 1px 2px rgba(0, 0, 0, 0.3));\n",
              "      fill: #FFFFFF;\n",
              "    }\n",
              "  </style>\n",
              "\n",
              "      <script>\n",
              "        const buttonEl =\n",
              "          document.querySelector('#df-29ade1b7-6d1e-4cbe-a6f9-e06da4e18d64 button.colab-df-convert');\n",
              "        buttonEl.style.display =\n",
              "          google.colab.kernel.accessAllowed ? 'block' : 'none';\n",
              "\n",
              "        async function convertToInteractive(key) {\n",
              "          const element = document.querySelector('#df-29ade1b7-6d1e-4cbe-a6f9-e06da4e18d64');\n",
              "          const dataTable =\n",
              "            await google.colab.kernel.invokeFunction('convertToInteractive',\n",
              "                                                     [key], {});\n",
              "          if (!dataTable) return;\n",
              "\n",
              "          const docLinkHtml = 'Like what you see? Visit the ' +\n",
              "            '<a target=\"_blank\" href=https://colab.research.google.com/notebooks/data_table.ipynb>data table notebook</a>'\n",
              "            + ' to learn more about interactive tables.';\n",
              "          element.innerHTML = '';\n",
              "          dataTable['output_type'] = 'display_data';\n",
              "          await google.colab.output.renderOutput(dataTable, element);\n",
              "          const docLink = document.createElement('div');\n",
              "          docLink.innerHTML = docLinkHtml;\n",
              "          element.appendChild(docLink);\n",
              "        }\n",
              "      </script>\n",
              "    </div>\n",
              "  </div>\n",
              "  "
            ]
          },
          "metadata": {},
          "execution_count": 18
        }
      ]
    },
    {
      "cell_type": "markdown",
      "source": [
        "3.Preprocessing the Dataset"
      ],
      "metadata": {
        "id": "cx7MYWqCSt2B"
      }
    },
    {
      "cell_type": "code",
      "source": [
        "df.drop(['Unnamed: 2', 'Unnamed: 3', 'Unnamed: 4'], axis=1, inplace=True) \n",
        "df.info()"
      ],
      "metadata": {
        "colab": {
          "base_uri": "https://localhost:8080/"
        },
        "id": "bgm6nZPjzrpi",
        "outputId": "44a100e6-64f6-4516-d8c7-23fd59cf2a12"
      },
      "execution_count": null,
      "outputs": [
        {
          "output_type": "stream",
          "name": "stdout",
          "text": [
            "<class 'pandas.core.frame.DataFrame'>\n",
            "RangeIndex: 5572 entries, 0 to 5571\n",
            "Data columns (total 2 columns):\n",
            " #   Column  Non-Null Count  Dtype \n",
            "---  ------  --------------  ----- \n",
            " 0   v1      5572 non-null   object\n",
            " 1   v2      5572 non-null   object\n",
            "dtypes: object(2)\n",
            "memory usage: 87.2+ KB\n"
          ]
        }
      ]
    },
    {
      "cell_type": "code",
      "source": [
        "X= df.v2\n",
        "\n",
        "Y = df.v1\n",
        "\n",
        "le=LabelEncoder()\n",
        "\n",
        "Y=le.fit_transform(Y)\n",
        "\n",
        "Y=Y.reshape(-1,1)"
      ],
      "metadata": {
        "id": "Qsns-QikzzFB"
      },
      "execution_count": null,
      "outputs": []
    },
    {
      "cell_type": "markdown",
      "source": [
        "4.Create Model"
      ],
      "metadata": {
        "id": "K_gYVUkxT-oJ"
      }
    },
    {
      "cell_type": "code",
      "source": [
        "X_train,X_test,Y_train, Y_test=train_test_split(X,Y, test_size=0.15)"
      ],
      "metadata": {
        "id": "-UJ4_XpH0i7I"
      },
      "execution_count": null,
      "outputs": []
    },
    {
      "cell_type": "code",
      "source": [
        "max_words = 1000\n",
        "\n",
        "max_len = 150\n",
        "\n",
        "tok = Tokenizer(num_words=max_words)\n",
        "\n",
        "tok.fit_on_texts (X_train)\n",
        "\n",
        "sequences = tok.texts_to_sequences (X_train)\n",
        "\n",
        "sequences_matrix = pad_sequences (sequences,maxlen=max_len)"
      ],
      "metadata": {
        "id": "_gl3JLHk1FKB"
      },
      "execution_count": null,
      "outputs": []
    },
    {
      "cell_type": "markdown",
      "source": [
        "5.Add Layers (LSTM, Dense-(Hidden Layers), Output)"
      ],
      "metadata": {
        "id": "1tdsYNlDUKNy"
      }
    },
    {
      "cell_type": "code",
      "source": [
        "inputs = Input(name='inputs', shape=[max_len])\n",
        "\n",
        "layer = Embedding(max_words, 50, input_length=max_len)(inputs)\n",
        "\n",
        "layer = LSTM(64) (layer)\n",
        "\n",
        "layer = Dense (256, name='FC1') (layer)\n",
        "\n",
        "layer = Activation('relu') (layer)\n",
        "\n",
        "layer =  Dropout (0.5) (layer)\n",
        "\n",
        "layer = Dense (1, name='out_layer') (layer)\n",
        "\n",
        "layer = Activation('sigmoid')(layer) \n",
        "model  = Model(inputs=inputs, outputs=layer)\n",
        "\n",
        "model.summary()"
      ],
      "metadata": {
        "colab": {
          "base_uri": "https://localhost:8080/"
        },
        "id": "YkQNJl57MYNM",
        "outputId": "659cf4ea-6958-42d4-ad80-24e2e963a353"
      },
      "execution_count": null,
      "outputs": [
        {
          "output_type": "stream",
          "name": "stdout",
          "text": [
            "Model: \"model\"\n",
            "_________________________________________________________________\n",
            " Layer (type)                Output Shape              Param #   \n",
            "=================================================================\n",
            " inputs (InputLayer)         [(None, 150)]             0         \n",
            "                                                                 \n",
            " embedding (Embedding)       (None, 150, 50)           50000     \n",
            "                                                                 \n",
            " lstm (LSTM)                 (None, 64)                29440     \n",
            "                                                                 \n",
            " FC1 (Dense)                 (None, 256)               16640     \n",
            "                                                                 \n",
            " activation (Activation)     (None, 256)               0         \n",
            "                                                                 \n",
            " dropout (Dropout)           (None, 256)               0         \n",
            "                                                                 \n",
            " out_layer (Dense)           (None, 1)                 257       \n",
            "                                                                 \n",
            " activation_1 (Activation)   (None, 1)                 0         \n",
            "                                                                 \n",
            "=================================================================\n",
            "Total params: 96,337\n",
            "Trainable params: 96,337\n",
            "Non-trainable params: 0\n",
            "_________________________________________________________________\n"
          ]
        }
      ]
    },
    {
      "cell_type": "markdown",
      "source": [],
      "metadata": {
        "id": "c1oSh7TAZGnX"
      }
    },
    {
      "cell_type": "markdown",
      "source": [
        "6.Compile the Model"
      ],
      "metadata": {
        "id": "8UVO27DSTwWa"
      }
    },
    {
      "cell_type": "code",
      "source": [
        "model.compile(loss= \"binary_crossentropy\",optimizer=RMSprop(), metrics=[\"accuracy\"])"
      ],
      "metadata": {
        "id": "GvaqdX_wOEDs"
      },
      "execution_count": null,
      "outputs": []
    },
    {
      "cell_type": "markdown",
      "source": [
        "7.Fit the Model"
      ],
      "metadata": {
        "id": "jwygB4rXS-l4"
      }
    },
    {
      "cell_type": "code",
      "source": [
        "model.fit(sequences_matrix,\n",
        "          Y_train, batch_size=128,epochs=10,validation_split=0.2)"
      ],
      "metadata": {
        "colab": {
          "base_uri": "https://localhost:8080/"
        },
        "id": "ZgRggROGPB2z",
        "outputId": "7684b202-a6fe-487d-931b-853f8061014a"
      },
      "execution_count": null,
      "outputs": [
        {
          "output_type": "stream",
          "name": "stdout",
          "text": [
            "Epoch 1/10\n",
            "30/30 [==============================] - 8s 190ms/step - loss: 0.3187 - accuracy: 0.8762 - val_loss: 0.1664 - val_accuracy: 0.9420\n",
            "Epoch 2/10\n",
            "30/30 [==============================] - 5s 174ms/step - loss: 0.0786 - accuracy: 0.9813 - val_loss: 0.0776 - val_accuracy: 0.9789\n",
            "Epoch 3/10\n",
            "30/30 [==============================] - 5s 172ms/step - loss: 0.0409 - accuracy: 0.9900 - val_loss: 0.0685 - val_accuracy: 0.9821\n",
            "Epoch 4/10\n",
            "30/30 [==============================] - 5s 173ms/step - loss: 0.0333 - accuracy: 0.9913 - val_loss: 0.0815 - val_accuracy: 0.9800\n",
            "Epoch 5/10\n",
            "30/30 [==============================] - 5s 172ms/step - loss: 0.0266 - accuracy: 0.9918 - val_loss: 0.0785 - val_accuracy: 0.9821\n",
            "Epoch 6/10\n",
            "30/30 [==============================] - 5s 175ms/step - loss: 0.0178 - accuracy: 0.9952 - val_loss: 0.0902 - val_accuracy: 0.9821\n",
            "Epoch 7/10\n",
            "30/30 [==============================] - 6s 216ms/step - loss: 0.0135 - accuracy: 0.9971 - val_loss: 0.0935 - val_accuracy: 0.9778\n",
            "Epoch 8/10\n",
            "30/30 [==============================] - 5s 172ms/step - loss: 0.0113 - accuracy: 0.9976 - val_loss: 0.1017 - val_accuracy: 0.9810\n",
            "Epoch 9/10\n",
            "30/30 [==============================] - 5s 173ms/step - loss: 0.0075 - accuracy: 0.9979 - val_loss: 0.1355 - val_accuracy: 0.9821\n",
            "Epoch 10/10\n",
            "30/30 [==============================] - 5s 174ms/step - loss: 0.0057 - accuracy: 0.9987 - val_loss: 0.1478 - val_accuracy: 0.9810\n"
          ]
        },
        {
          "output_type": "execute_result",
          "data": {
            "text/plain": [
              "<keras.callbacks.History at 0x7f3d1a538890>"
            ]
          },
          "metadata": {},
          "execution_count": 39
        }
      ]
    },
    {
      "cell_type": "markdown",
      "source": [
        "8.Save the Model"
      ],
      "metadata": {
        "id": "fbY_PA99TObC"
      }
    },
    {
      "cell_type": "code",
      "source": [
        "model.save(\"sms_classifier.h5\")"
      ],
      "metadata": {
        "id": "yR3ij5bQP2xi"
      },
      "execution_count": null,
      "outputs": []
    },
    {
      "cell_type": "code",
      "source": [
        "test_sequences = tok.texts_to_sequences (X_test) \n",
        "test_sequences_matrix = pad_sequences(test_sequences,maxlen=max_len)"
      ],
      "metadata": {
        "id": "OyASlBN2QLuK"
      },
      "execution_count": null,
      "outputs": []
    },
    {
      "cell_type": "markdown",
      "source": [
        "9.Test the Model"
      ],
      "metadata": {
        "id": "gVQaDupGTgI5"
      }
    },
    {
      "cell_type": "code",
      "source": [
        "accr = model.evaluate(test_sequences_matrix,Y_test)"
      ],
      "metadata": {
        "colab": {
          "base_uri": "https://localhost:8080/"
        },
        "id": "PYHzx9tCQrFZ",
        "outputId": "665c04b9-a9a8-4293-b22b-f192ff0131f8"
      },
      "execution_count": null,
      "outputs": [
        {
          "output_type": "stream",
          "name": "stdout",
          "text": [
            "27/27 [==============================] - 0s 16ms/step - loss: 0.0705 - accuracy: 0.9856\n"
          ]
        }
      ]
    },
    {
      "cell_type": "code",
      "source": [
        "print(\"Test set\\n Loss: {:0.3f}\\n Accuracy: {:0.3f}\".format(accr[0],accr[1]))"
      ],
      "metadata": {
        "colab": {
          "base_uri": "https://localhost:8080/"
        },
        "id": "Ux08jSfgREQq",
        "outputId": "4ba86fc2-5fd0-4eb7-96e3-246d89b9745f"
      },
      "execution_count": null,
      "outputs": [
        {
          "output_type": "stream",
          "name": "stdout",
          "text": [
            "Test set\n",
            " Loss: 0.071\n",
            " Accuracy: 0.986\n"
          ]
        }
      ]
    }
  ]
}